{
 "cells": [
  {
   "cell_type": "markdown",
   "metadata": {},
   "source": [
    "Quicker version of Hello World Code. Network created of users and their phone contacts. Nodes are phone numbers and users, connected if user has said phone number in their contact book."
   ]
  },
  {
   "cell_type": "code",
   "execution_count": 207,
   "metadata": {
    "collapsed": true
   },
   "outputs": [],
   "source": [
    "#!pip install psycopg2\n",
    "#!pip install pandas\n",
    "\n",
    "import pandas as pd\n",
    "import psycopg2\n",
    "from collections import defaultdict\n",
    "from collections import Counter\n",
    "import networkx as nx\n",
    "from networkx.algorithms import bipartite\n",
    "import matplotlib.pyplot as plt\n",
    "\n",
    "conn = psycopg2.connect(\"dbname=XXX user=XXXX host=XXXX port=XXXX password=XXXXX\")"
   ]
  },
  {
   "cell_type": "markdown",
   "metadata": {},
   "source": [
    "Query to select table with all session id's and their phone numbers, their corresponding contacts and the phone numbers of the contacts"
   ]
  },
  {
   "cell_type": "code",
   "execution_count": 208,
   "metadata": {
    "collapsed": true
   },
   "outputs": [],
   "source": [
    "cur = conn.cursor()\n",
    "cur.execute(\"\"\"SELECT\n",
    "  contact_books.session_id,\n",
    "  phone_numbers.phone_number,\n",
    "  contact_details.key,\n",
    "  contact_details.value\n",
    "FROM contact_book_items\n",
    "  INNER JOIN contact_book_items_phone_numbers\n",
    "    ON contact_book_items.id = contact_book_items_phone_numbers.contact_book_item_id\n",
    "  INNER JOIN phone_numbers ON contact_book_items_phone_numbers.phone_number_id = phone_numbers.id\n",
    "  INNER JOIN contact_books ON contact_book_items.contact_book_id = contact_books.id\n",
    "  INNER JOIN contact_details ON contact_books.session_id = contact_details.session_id\n",
    "  LIMIT 1000\n",
    "  \"\"\")\n",
    "out = cur.fetchall()"
   ]
  },
  {
   "cell_type": "code",
   "execution_count": 209,
   "metadata": {},
   "outputs": [
    {
     "name": "stdout",
     "output_type": "stream",
     "text": [
      "number of user contact books included;  2\n"
     ]
    }
   ],
   "source": [
    "dictionary_users_phone_numbers = {}\n",
    "dictionary_phone_numbers = defaultdict(list)\n",
    "for row in out:\n",
    "    if row[2] == \"phone_number\":\n",
    "        dictionary_users_phone_numbers[row[0]] = row[3]\n",
    "    dictionary_phone_numbers[row[0]].append(row[1])\n",
    "print \"number of user contact books included; \", len(dictionary_phone_numbers.keys())\n"
   ]
  },
  {
   "cell_type": "code",
   "execution_count": 210,
   "metadata": {
    "collapsed": true
   },
   "outputs": [],
   "source": [
    "nodes = []\n",
    "node_attributes = {}\n",
    "edges = []\n",
    "\n",
    "for user in dictionary_phone_numbers.keys():\n",
    "    if dictionary_users_phone_numbers[user] in dictionary_phone_numbers.values():\n",
    "        key = dictionary_users_phone_numbers[user]\n",
    "    else:\n",
    "        key = user\n",
    "    \n",
    "    nodes.append(key)\n",
    "    node_attributes[key] = \"user\"\n",
    "    for j in dictionary_phone_numbers[user]:\n",
    "            nodes.append(j)\n",
    "            node_attributes[j] = \"contact\"\n",
    "            edges.append((key,j))\n"
   ]
  },
  {
   "cell_type": "code",
   "execution_count": 211,
   "metadata": {},
   "outputs": [
    {
     "name": "stdout",
     "output_type": "stream",
     "text": [
      "number of nodes;  949\n",
      "number of edges;  956\n"
     ]
    }
   ],
   "source": [
    "G=nx.Graph()\n",
    "G.add_nodes_from(nodes)\n",
    "G.add_edges_from(edges)\n",
    "\n",
    "nx.set_node_attributes(G,\"type of node\",node_attributes)\n",
    "nx.write_gexf(G,\"Faster_fiddling.gexf\")\n",
    "\n",
    "print \"number of nodes; \", G.number_of_nodes()\n",
    "print \"number of edges; \", G.number_of_edges()\n"
   ]
  },
  {
   "cell_type": "markdown",
   "metadata": {},
   "source": [
    "Project graph onto just users. I'm also going to add a projection onto contacts. This may be useful in terms of knowing which contacts are more likely to download the app themselves. (a contact who knows more than one person with the app is probably more likely to download the app themselves rather than someone who doesn't know as many people with the app).\n",
    "\n",
    "This projection is unbelievably interconnected. A network with 3,000 nodes has over 1 million edges - very large amount of connectivity."
   ]
  },
  {
   "cell_type": "code",
   "execution_count": 212,
   "metadata": {},
   "outputs": [
    {
     "name": "stdout",
     "output_type": "stream",
     "text": [
      "Is graph bipartite?:  True\n",
      "2\n",
      "1\n",
      "done\n"
     ]
    }
   ],
   "source": [
    "#top nodes are users, bottom nodes are their contacts\n",
    "top_nodes = []\n",
    "bottom_nodes = []\n",
    "\n",
    "#dictionary of nodes, with attributes '0' if bottom node and '1' if top node\n",
    "node_classification = {}\n",
    "for n in G.nodes():\n",
    "    if G.node[n][\"type of node\"] == \"user\":\n",
    "        node_classification[n] = 1\n",
    "        top_nodes += [n]\n",
    "    else:\n",
    "        node_classification[n] = 0\n",
    "        bottom_nodes += [n]\n",
    "\n",
    "#give nodes new attributes (0 or 1)\n",
    "nx.set_node_attributes(G,\"bipartite\",node_classification)\n",
    "top_nodes = set(top_nodes)\n",
    "bottom_nodes = set(bottom_nodes)\n",
    "print \"Is graph bipartite?: \", bipartite.is_bipartite(G)\n",
    "\n",
    "G_projected = bipartite.weighted_projected_graph(G,top_nodes,ratio=True)\n",
    "G_projected_contacts = bipartite.weighted_projected_graph(G,bottom_nodes,ratio=True)\n",
    "\n",
    "#remove isolated nodes (those with no connection to the others)\n",
    "G_projected.remove_nodes_from(nx.isolates(G_projected))\n",
    "G_projected_contacts.remove_nodes_from(nx.isolates(G_projected))\n",
    "\n",
    "nx.write_gexf(G_projected,\"Faster_projected.gexf\")\n",
    "nx.write_gexf(G_projected_contacts, \"Faster_projected_contacts.gexf\")\n",
    "\n",
    "print G_projected.number_of_nodes()\n",
    "print G_projected.number_of_edges()\n",
    "print \"done\""
   ]
  },
  {
   "cell_type": "markdown",
   "metadata": {},
   "source": [
    "Having a fiddle with adding attributes that may be useful later."
   ]
  },
  {
   "cell_type": "code",
   "execution_count": 213,
   "metadata": {
    "collapsed": true
   },
   "outputs": [],
   "source": [
    "cur_new = conn.cursor()\n",
    "cur_new.execute(\"\"\"SELECT\n",
    "  session_id,\n",
    "  key,\n",
    "  session_profile_data.value\n",
    "FROM session_profile_data\n",
    "\"\"\")\n",
    "out = cur_new.fetchall()"
   ]
  },
  {
   "cell_type": "code",
   "execution_count": 214,
   "metadata": {
    "collapsed": true
   },
   "outputs": [],
   "source": [
    "attributes_name = {}\n",
    "attributes_DOB = {}\n",
    "for element in out:\n",
    "    if element[1] == \"name\":\n",
    "        attributes_name[element[0]]=element[2]\n",
    "    if element[1] == \"date_of_birth\":\n",
    "        attributes_DOB[element[0]]=element[2]"
   ]
  },
  {
   "cell_type": "code",
   "execution_count": 215,
   "metadata": {
    "collapsed": true
   },
   "outputs": [],
   "source": [
    "cur.close()\n",
    "conn.close()"
   ]
  },
  {
   "cell_type": "markdown",
   "metadata": {},
   "source": [
    "Edge weight distribution out of interest"
   ]
  },
  {
   "cell_type": "code",
   "execution_count": 216,
   "metadata": {
    "scrolled": true
   },
   "outputs": [
    {
     "data": {
      "image/png": "[encoded data removed]",
      "text/plain": [
       "<matplotlib.figure.Figure at 0x10e988490>"
      ]
     },
     "metadata": {},
     "output_type": "display_data"
    }
   ],
   "source": [
    "edges = G_projected.edges(G_projected.nodes(),\"weight\")\n",
    "weights=[]\n",
    "for edge in edges:\n",
    "    weights.append(edge[2])\n",
    "\n",
    "plt.hist(weights,label=\"Histogram of Edge Weights\")\n",
    "plt.show()"
   ]
  },
  {
   "cell_type": "markdown",
   "metadata": {},
   "source": [
    "betweenness centrality is a measure of which nodes in the network are most influential in terms of the flow of information. If we consider 'information' in this case to be a recommendation that leads to a download...attempting to understand what type of person/ user is most successful at bringing in new users."
   ]
  },
  {
   "cell_type": "code",
   "execution_count": 217,
   "metadata": {},
   "outputs": [
    {
     "data": {
      "image/png": "[encoded data removed]",
      "text/plain": [
       "<matplotlib.figure.Figure at 0x10ff46a90>"
      ]
     },
     "metadata": {},
     "output_type": "display_data"
    }
   ],
   "source": [
    "bet_centr = nx.betweenness_centrality(G_projected)\n",
    "plt.hist(bet_centr.values())\n",
    "plt.show()\n",
    "\n",
    "for keys in bet_centr.keys():\n",
    "    if bet_centr[keys] > 0.01:\n",
    "        print keys, bet_centr[keys]"
   ]
  }
 ],
 "metadata": {
  "kernelspec": {
   "display_name": "Python 2",
   "language": "python",
   "name": "python2"
  },
  "language_info": {
   "codemirror_mode": {
    "name": "ipython",
    "version": 2
   },
   "file_extension": ".py",
   "mimetype": "text/x-python",
   "name": "python",
   "nbconvert_exporter": "python",
   "pygments_lexer": "ipython2",
   "version": "2.7.13"
  }
 },
 "nbformat": 4,
 "nbformat_minor": 2
}
